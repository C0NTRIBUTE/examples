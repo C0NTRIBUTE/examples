{
 "cells": [
  {
   "cell_type": "code",
   "execution_count": 11,
   "metadata": {},
   "outputs": [],
   "source": [
    "import sys\n",
    "\n",
    "for i in ['talos', 'wrangle', 'astetik']:\n",
    "    sys.path.insert(0, '/Users/mikko/Documents/GitHub/' + i)"
   ]
  },
  {
   "cell_type": "code",
   "execution_count": 12,
   "metadata": {},
   "outputs": [],
   "source": [
    "import pandas, talos, wrangle\n",
    "from telco_churn import data_prep"
   ]
  },
  {
   "cell_type": "code",
   "execution_count": 13,
   "metadata": {},
   "outputs": [],
   "source": [
    "x, y = data_prep()"
   ]
  },
  {
   "cell_type": "code",
   "execution_count": 14,
   "metadata": {},
   "outputs": [],
   "source": [
    "x_train, y_train, x_val, y_val = wrangle.array_split(x, y, 0.3)"
   ]
  },
  {
   "cell_type": "code",
   "execution_count": 15,
   "metadata": {},
   "outputs": [],
   "source": [
    "model = talos.KerasModel('binary').model"
   ]
  },
  {
   "cell_type": "code",
   "execution_count": 16,
   "metadata": {},
   "outputs": [],
   "source": [
    "params = talos.Params().params"
   ]
  },
  {
   "cell_type": "code",
   "execution_count": 17,
   "metadata": {},
   "outputs": [
    {
     "data": {
      "text/plain": [
       "1552711680"
      ]
     },
     "execution_count": 17,
     "metadata": {},
     "output_type": "execute_result"
    }
   ],
   "source": [
    "wrangle.dic_count_complexity(params)"
   ]
  },
  {
   "cell_type": "code",
   "execution_count": 19,
   "metadata": {},
   "outputs": [
    {
     "data": {
      "text/plain": [
       "15000000"
      ]
     },
     "execution_count": 19,
     "metadata": {},
     "output_type": "execute_result"
    }
   ],
   "source": [
    "params = wrangle.dic_resample_values(params, 5)\n",
    "wrangle.dic_count_complexity(params)"
   ]
  },
  {
   "cell_type": "code",
   "execution_count": 20,
   "metadata": {},
   "outputs": [
    {
     "data": {
      "text/plain": [
       "{'shapes': ['triangle', 'funnel', 'brick'],\n",
       " 'hidden_layers': [2, 5, 4, 1, 3],\n",
       " 'dropout': [0.3, 0.2, 0.6, 0.7, 0.0],\n",
       " 'optimizer': [keras.optimizers.Adam,\n",
       "  keras.optimizers.Nadam,\n",
       "  keras.optimizers.Adadelta,\n",
       "  keras.optimizers.SGD],\n",
       " 'activation': ['relu', 'elu'],\n",
       " 'first_neuron': [64, 16, 128, 32, 512],\n",
       " 'losses': ['binary_crossentropy', 'logcosh'],\n",
       " 'batch_size': [64, 22, 32, 2, 5],\n",
       " 'epochs': [58, 82, 178, 114, 55],\n",
       " 'kernel_initializer': ['glorot_uniform',\n",
       "  'glorot_normal',\n",
       "  'random_uniform',\n",
       "  'random_normal'],\n",
       " 'lr': [0.05, 10, 0.17, 0.8, 8],\n",
       " 'network': ['dense', 'simplernn', 'conv1d', 'bidirectional_lstm', 'lstm'],\n",
       " 'last_activation': ['sigmoid']}"
      ]
     },
     "execution_count": 20,
     "metadata": {},
     "output_type": "execute_result"
    }
   ],
   "source": [
    "params"
   ]
  },
  {
   "cell_type": "code",
   "execution_count": 21,
   "metadata": {},
   "outputs": [],
   "source": [
    "params['network'] = ['dense']\n",
    "params['epochs'] = [100, 150, 200]\n",
    "params['batch_size'] = [32, 64, 128, 256]\n",
    "params['first_neuron'] = [64, 128, 256]"
   ]
  },
  {
   "cell_type": "code",
   "execution_count": 22,
   "metadata": {},
   "outputs": [
    {
     "name": "stderr",
     "output_type": "stream",
     "text": [
      "100%|██████████| 8/8 [19:05:54<00:00, 14303.83s/it]  \n"
     ]
    }
   ],
   "source": [
    "scan_object = talos.Scan(x=x_train,\n",
    "                         y=y_train,\n",
    "                         params=params,\n",
    "                         model=model,\n",
    "                         experiment_name='telco_churn_1',\n",
    "                         x_val=x_val,\n",
    "                         y_val=y_val,\n",
    "                         fraction_limit=0.00001)"
   ]
  }
 ],
 "metadata": {
  "kernelspec": {
   "display_name": "Python 3",
   "language": "python",
   "name": "python3"
  },
  "language_info": {
   "codemirror_mode": {
    "name": "ipython",
    "version": 3
   },
   "file_extension": ".py",
   "mimetype": "text/x-python",
   "name": "python",
   "nbconvert_exporter": "python",
   "pygments_lexer": "ipython3",
   "version": "3.6.6"
  }
 },
 "nbformat": 4,
 "nbformat_minor": 2
}
